{
 "cells": [
  {
   "cell_type": "code",
   "execution_count": 1,
   "id": "12a072b2",
   "metadata": {},
   "outputs": [
    {
     "name": "stdout",
     "output_type": "stream",
     "text": [
      "enter first value: 0.05\n",
      "enter second value: 0.10\n",
      "H1: 0.458176\n",
      "H2: 0.454216\n",
      "O1: 0.633003\n",
      "O2: 0.631577\n"
     ]
    }
   ],
   "source": [
    "def tanh(x):\n",
    "    e = 2.71828 ** (-2 * x)\n",
    "    return (1 - e) / (1 + e)\n",
    "\n",
    "def calculate(i1, i2):\n",
    "    w1, w2 = 0.3, -0.4\n",
    "    w3, w4 = -0.2, 0.1\n",
    "    w5, w6 = 0.25, -0.35\n",
    "    w7, w8 = -0.15, 0.45\n",
    "\n",
    "    b1, b2 = 0.5, 0.7\n",
    "\n",
    "    h1 = tanh((i1 * w1) + (i2 * w3) + b1)\n",
    "    h2 = tanh((i1 * w2) + (i2 * w4) + b1)\n",
    "\n",
    "    o1 = tanh((h1 * w5) + (h2 * w7) + b2)\n",
    "    o2 = tanh((h1 * w6) + (h2 * w8) + b2)\n",
    "\n",
    "    return h1, h2, o1, o2\n",
    "\n",
    "i1 = float(input(\"enter first value: \"))\n",
    "i2 = float(input(\"enter second value: \"))\n",
    "\n",
    "h1, h2, o1, o2 = calculate(i1, i2)\n",
    "\n",
    "print(f\"H1: {h1:.6f}\")\n",
    "print(f\"H2: {h2:.6f}\")\n",
    "print(f\"O1: {o1:.6f}\")\n",
    "print(f\"O2: {o2:.6f}\")"
   ]
  }
 ],
 "metadata": {
  "kernelspec": {
   "display_name": "Python 3 (ipykernel)",
   "language": "python",
   "name": "python3"
  },
  "language_info": {
   "codemirror_mode": {
    "name": "ipython",
    "version": 3
   },
   "file_extension": ".py",
   "mimetype": "text/x-python",
   "name": "python",
   "nbconvert_exporter": "python",
   "pygments_lexer": "ipython3",
   "version": "3.9.13"
  }
 },
 "nbformat": 4,
 "nbformat_minor": 5
}
